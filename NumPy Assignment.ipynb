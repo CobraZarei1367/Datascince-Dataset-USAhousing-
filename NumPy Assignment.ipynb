{
 "cells": [
  {
   "cell_type": "code",
   "execution_count": 23,
   "id": "869e6021-334e-4902-b511-3b6ed2b784ed",
   "metadata": {},
   "outputs": [
    {
     "data": {
      "text/plain": [
       "array([[1, 1, 1, 1],\n",
       "       [1, 1, 1, 1],\n",
       "       [1, 1, 1, 1],\n",
       "       [1, 1, 1, 1]])"
      ]
     },
     "execution_count": 23,
     "metadata": {},
     "output_type": "execute_result"
    }
   ],
   "source": [
    "#numpay Assignment\n",
    "\n",
    "#Q3\n",
    "import math\n",
    "import numpy as np\n",
    "np.ones((4, 4), dtype=int)"
   ]
  },
  {
   "cell_type": "markdown",
   "id": "a5937141-9757-4371-8bcb-5abf6ae59b1c",
   "metadata": {},
   "source": []
  },
  {
   "cell_type": "code",
   "execution_count": 40,
   "id": "530bb8a5-2ba7-409a-941d-f454004a1649",
   "metadata": {},
   "outputs": [
    {
     "name": "stdout",
     "output_type": "stream",
     "text": [
      "[10 13 16 19 22 25 28 31 34 37 40 43 46 49]\n",
      "[-1 13 -1 19 -1 25 -1 31 -1 37 -1 43 -1 49]\n"
     ]
    }
   ],
   "source": [
    "#Q4\n",
    "A = np.arange(10, 51,3)\n",
    "print (A)\n",
    "A[A % 2 == 0] = -1 \n",
    "print (A)\n",
    "        "
   ]
  },
  {
   "cell_type": "code",
   "execution_count": 33,
   "id": "1688cb46-dbd2-416e-a820-0eaaf25f9136",
   "metadata": {},
   "outputs": [
    {
     "name": "stdout",
     "output_type": "stream",
     "text": [
      "[ 1  3  5  7  9 11 13 15 17 19]\n",
      "[ 1  0  5  7  0 11 13  0 17 19]\n"
     ]
    }
   ],
   "source": [
    "# Q5 - a\n",
    "A1 = np.arange(1,20,2)\n",
    "print(A1)\n",
    "A1[A1 % 3 == 0] = 0\n",
    "print (A1)"
   ]
  },
  {
   "cell_type": "code",
   "execution_count": 49,
   "id": "439e3e9d-2611-4ff0-a75e-28a0b426fe9d",
   "metadata": {},
   "outputs": [
    {
     "name": "stdout",
     "output_type": "stream",
     "text": [
      "[[ 1  0  5  7  0]\n",
      " [11 13  0 17 19]]\n"
     ]
    }
   ],
   "source": [
    "#Q5-b\n",
    "b=A1.reshape(2,5)\n",
    "print(b)"
   ]
  },
  {
   "cell_type": "code",
   "execution_count": 55,
   "id": "6cb769c7-2146-4ec1-925a-f7a772809edf",
   "metadata": {},
   "outputs": [
    {
     "name": "stdout",
     "output_type": "stream",
     "text": [
      "[[ 1  0  0  7  0]\n",
      " [11 13  0 17 19]]\n"
     ]
    }
   ],
   "source": [
    "#Q5-c\n",
    "b[:,2]=0\n",
    "print(b)"
   ]
  },
  {
   "cell_type": "code",
   "execution_count": 72,
   "id": "c527e77f-a123-4f88-acaf-e674154b5d1d",
   "metadata": {},
   "outputs": [
    {
     "name": "stdout",
     "output_type": "stream",
     "text": [
      "[1.5    1.6875 1.875  2.0625 2.25   2.4375 2.625  2.8125 3.    ]\n"
     ]
    }
   ],
   "source": [
    "#Q6-a\n",
    "b1=np.linspace(1.5,3,9)\n",
    "print(b1)\n"
   ]
  },
  {
   "cell_type": "code",
   "execution_count": 59,
   "id": "0bff83f6-3340-45a7-8a5a-2298ea08b70c",
   "metadata": {},
   "outputs": [
    {
     "name": "stdout",
     "output_type": "stream",
     "text": [
      "[[1.35357637 0.10676823 2.07453023]\n",
      " [0.76551108 0.45955845 1.66537221]\n",
      " [1.64469131 0.52260737 1.01177228]]\n"
     ]
    }
   ],
   "source": [
    "#Q6-b\n",
    "np.random.seed(1234)\n",
    "b2 = np.random.normal(1, 0.75, (3, 3))\n",
    "b2\n",
    "print(b2)"
   ]
  },
  {
   "cell_type": "code",
   "execution_count": 60,
   "id": "8a3a3163-43f4-4077-9731-a9eca9f090b2",
   "metadata": {},
   "outputs": [
    {
     "name": "stdout",
     "output_type": "stream",
     "text": [
      "-1.0770051050177027\n"
     ]
    }
   ],
   "source": [
    "#Q6-c\n",
    "c=np.linalg.det(b2)\n",
    "print(c)"
   ]
  },
  {
   "cell_type": "code",
   "execution_count": 61,
   "id": "00ae6442-84e8-4bdc-972a-3a2278b307bd",
   "metadata": {},
   "outputs": [
    {
     "data": {
      "text/plain": [
       "array([[1.35357637, 0.76551108, 1.64469131],\n",
       "       [0.10676823, 0.45955845, 0.52260737],\n",
       "       [2.07453023, 1.66537221, 1.01177228]])"
      ]
     },
     "execution_count": 61,
     "metadata": {},
     "output_type": "execute_result"
    }
   ],
   "source": [
    "#Q6-d\n",
    "b2.T"
   ]
  },
  {
   "cell_type": "code",
   "execution_count": 63,
   "id": "0792ebfd-56cd-440f-a893-71b4f1941edf",
   "metadata": {},
   "outputs": [
    {
     "name": "stdout",
     "output_type": "stream",
     "text": [
      "[[1.5  1.67 1.84]\n",
      " [2.01 2.18 2.35]\n",
      " [2.52 2.69 2.86]]\n"
     ]
    }
   ],
   "source": [
    "#Q6-e convert b1 into 3*3 matrix\n",
    "e=b1.reshape(3,3)\n",
    "print(e)"
   ]
  },
  {
   "cell_type": "code",
   "execution_count": 87,
   "id": "5bae7187-e829-4d2d-af9c-e66883599da6",
   "metadata": {},
   "outputs": [
    {
     "name": "stdout",
     "output_type": "stream",
     "text": [
      "[[2.85357637 1.77676823 3.91453023]\n",
      " [2.77551108 2.63955845 4.01537221]\n",
      " [4.16469131 3.21260737 3.87177228]]\n"
     ]
    }
   ],
   "source": [
    "#Q6-f  summation b1 and b2\n",
    "f=b2.reshape(3,3)\n",
    "print(e + f)"
   ]
  },
  {
   "cell_type": "code",
   "execution_count": 89,
   "id": "0e6392aa-5ba1-41f1-8d96-ceb329c2e33c",
   "metadata": {},
   "outputs": [
    {
     "name": "stdout",
     "output_type": "stream",
     "text": [
      "[[2.03036456 0.17830294 3.81713562]\n",
      " [1.53867727 1.00183742 3.91362468]\n",
      " [4.1446221  1.40581383 2.89366872]]\n"
     ]
    }
   ],
   "source": [
    "#Q6-g  multipliction b1 and b2\n",
    "g=e*f\n",
    "print(g)"
   ]
  },
  {
   "cell_type": "code",
   "execution_count": 80,
   "id": "2b3264f5-c91a-4024-ac9b-acfc6e06b7b2",
   "metadata": {},
   "outputs": [
    {
     "name": "stdout",
     "output_type": "stream",
     "text": [
      "[[ True False  True]\n",
      " [False False  True]\n",
      " [ True False False]]\n"
     ]
    }
   ],
   "source": [
    "#Q6-h\n",
    "print(b2> b2.mean())"
   ]
  },
  {
   "cell_type": "code",
   "execution_count": 83,
   "id": "15a1bc37-bf6d-4218-84be-6017ab9ad33d",
   "metadata": {},
   "outputs": [
    {
     "name": "stdout",
     "output_type": "stream",
     "text": [
      "min= 0.1067682289701517\n",
      "max= 2.074530226319573\n"
     ]
    }
   ],
   "source": [
    "#Q6-i\n",
    "print(\"min=\" , b2.min())\n",
    "print(\"max=\" , b2.max())\n",
    "\n"
   ]
  },
  {
   "cell_type": "code",
   "execution_count": null,
   "id": "2430cc0c-52ab-4709-92c4-bfbfe404a816",
   "metadata": {},
   "outputs": [],
   "source": []
  }
 ],
 "metadata": {
  "kernelspec": {
   "display_name": "Python [conda env:base] *",
   "language": "python",
   "name": "conda-base-py"
  },
  "language_info": {
   "codemirror_mode": {
    "name": "ipython",
    "version": 3
   },
   "file_extension": ".py",
   "mimetype": "text/x-python",
   "name": "python",
   "nbconvert_exporter": "python",
   "pygments_lexer": "ipython3",
   "version": "3.12.7"
  }
 },
 "nbformat": 4,
 "nbformat_minor": 5
}
